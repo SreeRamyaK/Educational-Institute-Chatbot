{
 "cells": [
  {
   "cell_type": "markdown",
   "id": "03ad6ed6",
   "metadata": {},
   "source": [
    "# DataPreprocessing"
   ]
  },
  {
   "cell_type": "code",
   "execution_count": 3,
   "id": "e52ed8c3",
   "metadata": {},
   "outputs": [],
   "source": [
    "import warnings\n",
    "warnings.filterwarnings('ignore')"
   ]
  },
  {
   "cell_type": "code",
   "execution_count": 4,
   "id": "a4f11544",
   "metadata": {},
   "outputs": [],
   "source": [
    "import pandas as pd"
   ]
  },
  {
   "cell_type": "code",
   "execution_count": 5,
   "id": "19f3bd44",
   "metadata": {},
   "outputs": [],
   "source": [
    "data = pd.read_json('intents.json')"
   ]
  },
  {
   "cell_type": "code",
   "execution_count": 6,
   "id": "0e349208",
   "metadata": {},
   "outputs": [
    {
     "data": {
      "text/html": [
       "<div>\n",
       "<style scoped>\n",
       "    .dataframe tbody tr th:only-of-type {\n",
       "        vertical-align: middle;\n",
       "    }\n",
       "\n",
       "    .dataframe tbody tr th {\n",
       "        vertical-align: top;\n",
       "    }\n",
       "\n",
       "    .dataframe thead th {\n",
       "        text-align: right;\n",
       "    }\n",
       "</style>\n",
       "<table border=\"1\" class=\"dataframe\">\n",
       "  <thead>\n",
       "    <tr style=\"text-align: right;\">\n",
       "      <th></th>\n",
       "      <th>intents</th>\n",
       "    </tr>\n",
       "  </thead>\n",
       "  <tbody>\n",
       "    <tr>\n",
       "      <th>0</th>\n",
       "      <td>{'tag': 'timings', 'patterns': ['When is the c...</td>\n",
       "    </tr>\n",
       "    <tr>\n",
       "      <th>1</th>\n",
       "      <td>{'tag': 'ug timings', 'patterns': ['what are t...</td>\n",
       "    </tr>\n",
       "    <tr>\n",
       "      <th>2</th>\n",
       "      <td>{'tag': 'pg timings', 'patterns': ['what are t...</td>\n",
       "    </tr>\n",
       "    <tr>\n",
       "      <th>3</th>\n",
       "      <td>{'tag': 'placements', 'patterns': ['Are there ...</td>\n",
       "    </tr>\n",
       "    <tr>\n",
       "      <th>4</th>\n",
       "      <td>{'tag': 'placements-ug', 'patterns': ['Who are...</td>\n",
       "    </tr>\n",
       "  </tbody>\n",
       "</table>\n",
       "</div>"
      ],
      "text/plain": [
       "                                             intents\n",
       "0  {'tag': 'timings', 'patterns': ['When is the c...\n",
       "1  {'tag': 'ug timings', 'patterns': ['what are t...\n",
       "2  {'tag': 'pg timings', 'patterns': ['what are t...\n",
       "3  {'tag': 'placements', 'patterns': ['Are there ...\n",
       "4  {'tag': 'placements-ug', 'patterns': ['Who are..."
      ]
     },
     "execution_count": 6,
     "metadata": {},
     "output_type": "execute_result"
    }
   ],
   "source": [
    "data.head()"
   ]
  },
  {
   "cell_type": "code",
   "execution_count": 7,
   "id": "0efe9077",
   "metadata": {},
   "outputs": [
    {
     "data": {
      "text/plain": [
       "(34, 1)"
      ]
     },
     "execution_count": 7,
     "metadata": {},
     "output_type": "execute_result"
    }
   ],
   "source": [
    "data.shape"
   ]
  },
  {
   "cell_type": "code",
   "execution_count": 8,
   "id": "4acff3ed",
   "metadata": {},
   "outputs": [
    {
     "name": "stdout",
     "output_type": "stream",
     "text": [
      "<class 'pandas.core.frame.DataFrame'>\n",
      "RangeIndex: 34 entries, 0 to 33\n",
      "Data columns (total 1 columns):\n",
      " #   Column   Non-Null Count  Dtype \n",
      "---  ------   --------------  ----- \n",
      " 0   intents  34 non-null     object\n",
      "dtypes: object(1)\n",
      "memory usage: 400.0+ bytes\n"
     ]
    }
   ],
   "source": [
    "data.info()"
   ]
  },
  {
   "cell_type": "code",
   "execution_count": 10,
   "id": "cdf5bd45",
   "metadata": {},
   "outputs": [],
   "source": [
    "df = data.dropna()"
   ]
  },
  {
   "cell_type": "code",
   "execution_count": 11,
   "id": "c486645a",
   "metadata": {},
   "outputs": [
    {
     "data": {
      "text/plain": [
       "intents    0\n",
       "dtype: int64"
      ]
     },
     "execution_count": 11,
     "metadata": {},
     "output_type": "execute_result"
    }
   ],
   "source": [
    "df.isnull().sum()"
   ]
  },
  {
   "cell_type": "code",
   "execution_count": 12,
   "id": "76a208a9",
   "metadata": {},
   "outputs": [
    {
     "data": {
      "text/plain": [
       "<bound method DataFrame.info of                                               intents\n",
       "0   {'tag': 'timings', 'patterns': ['When is the c...\n",
       "1   {'tag': 'ug timings', 'patterns': ['what are t...\n",
       "2   {'tag': 'pg timings', 'patterns': ['what are t...\n",
       "3   {'tag': 'placements', 'patterns': ['Are there ...\n",
       "4   {'tag': 'placements-ug', 'patterns': ['Who are...\n",
       "5   {'tag': 'placements-pg', 'patterns': ['Who are...\n",
       "6   {'tag': 'courses-ug(number)', 'patterns': ['ho...\n",
       "7   {'tag': 'departments-ug', 'patterns': ['How ma...\n",
       "8   {'tag': 'courses-pg(number)', 'patterns': ['ho...\n",
       "9   {'tag': 'departments-pg', 'patterns': ['How ma...\n",
       "10  {'tag': 'courses-aided(number)', 'patterns': [...\n",
       "11  {'tag': 'courses-aided', 'patterns': ['What ar...\n",
       "12  {'tag': 'coures-self-finance(pg)', 'patterns':...\n",
       "13  {'tag': 'm.phil', 'patterns': ['What courses a...\n",
       "14  {'tag': 'phd', 'patterns': ['What are the avai...\n",
       "15  {'tag': 'teachers', 'patterns': ['How many tea...\n",
       "16  {'tag': 'hostel', 'patterns': ['Is there any h...\n",
       "17  {'tag': 'facility', 'patterns': ['How will the...\n",
       "18  {'tag': 'fees', 'patterns': ['Can you tell me ...\n",
       "19  {'tag': 'fees-ug', 'patterns': ['How do you tr...\n",
       "20  {'tag': 'fees-pg', 'patterns': ['Can you tell ...\n",
       "21  {'tag': 'Founder', 'patterns': ['Who is the fo...\n",
       "22  {'tag': 'chairman', 'patterns': ['Who is the c...\n",
       "23  {'tag': 'principal', 'patterns': ['Who is the ...\n",
       "24  {'tag': 'viceprincipal', 'patterns': ['Who is ...\n",
       "25  {'tag': 'address', 'patterns': ['What is the a...\n",
       "26  {'tag': 'contact', 'patterns': ['How to contac...\n",
       "27  {'tag': 'canteen', 'patterns': ['Canteens are ...\n",
       "28  {'tag': 'veg-food', 'patterns': ['Is there veg...\n",
       "29  {'tag': 'non-veg', 'patterns': ['Is there non-...\n",
       "30  {'tag': 'payment-method', 'patterns': ['Does t...\n",
       "31  {'tag': 'library', 'patterns': ['Is there a li...\n",
       "32  {'tag': 'parking', 'patterns': ['Is a parking ...\n",
       "33  {'tag': 'certification', 'patterns': ['Certifi...>"
      ]
     },
     "execution_count": 12,
     "metadata": {},
     "output_type": "execute_result"
    }
   ],
   "source": [
    "df.info\n"
   ]
  },
  {
   "cell_type": "code",
   "execution_count": 13,
   "id": "f7dcf3e2",
   "metadata": {},
   "outputs": [
    {
     "data": {
      "text/plain": [
       "Index(['intents'], dtype='object')"
      ]
     },
     "execution_count": 13,
     "metadata": {},
     "output_type": "execute_result"
    }
   ],
   "source": [
    "df.columns"
   ]
  },
  {
   "cell_type": "code",
   "execution_count": 16,
   "id": "bfed1db2",
   "metadata": {},
   "outputs": [
    {
     "data": {
      "text/plain": [
       "34"
      ]
     },
     "execution_count": 16,
     "metadata": {},
     "output_type": "execute_result"
    }
   ],
   "source": [
    "df.size"
   ]
  },
  {
   "cell_type": "code",
   "execution_count": 17,
   "id": "f66345bc",
   "metadata": {},
   "outputs": [
    {
     "data": {
      "text/html": [
       "<div>\n",
       "<style scoped>\n",
       "    .dataframe tbody tr th:only-of-type {\n",
       "        vertical-align: middle;\n",
       "    }\n",
       "\n",
       "    .dataframe tbody tr th {\n",
       "        vertical-align: top;\n",
       "    }\n",
       "\n",
       "    .dataframe thead th {\n",
       "        text-align: right;\n",
       "    }\n",
       "</style>\n",
       "<table border=\"1\" class=\"dataframe\">\n",
       "  <thead>\n",
       "    <tr style=\"text-align: right;\">\n",
       "      <th></th>\n",
       "      <th>intents</th>\n",
       "    </tr>\n",
       "  </thead>\n",
       "  <tbody>\n",
       "    <tr>\n",
       "      <th>count</th>\n",
       "      <td>34</td>\n",
       "    </tr>\n",
       "    <tr>\n",
       "      <th>unique</th>\n",
       "      <td>34</td>\n",
       "    </tr>\n",
       "    <tr>\n",
       "      <th>top</th>\n",
       "      <td>{'tag': 'timings', 'patterns': ['When is the c...</td>\n",
       "    </tr>\n",
       "    <tr>\n",
       "      <th>freq</th>\n",
       "      <td>1</td>\n",
       "    </tr>\n",
       "  </tbody>\n",
       "</table>\n",
       "</div>"
      ],
      "text/plain": [
       "                                                  intents\n",
       "count                                                  34\n",
       "unique                                                 34\n",
       "top     {'tag': 'timings', 'patterns': ['When is the c...\n",
       "freq                                                    1"
      ]
     },
     "execution_count": 17,
     "metadata": {},
     "output_type": "execute_result"
    }
   ],
   "source": [
    "df.describe()"
   ]
  },
  {
   "cell_type": "code",
   "execution_count": 18,
   "id": "506c330d",
   "metadata": {},
   "outputs": [
    {
     "data": {
      "text/html": [
       "<div>\n",
       "<style scoped>\n",
       "    .dataframe tbody tr th:only-of-type {\n",
       "        vertical-align: middle;\n",
       "    }\n",
       "\n",
       "    .dataframe tbody tr th {\n",
       "        vertical-align: top;\n",
       "    }\n",
       "\n",
       "    .dataframe thead th {\n",
       "        text-align: right;\n",
       "    }\n",
       "</style>\n",
       "<table border=\"1\" class=\"dataframe\">\n",
       "  <thead>\n",
       "    <tr style=\"text-align: right;\">\n",
       "      <th></th>\n",
       "      <th>intents</th>\n",
       "    </tr>\n",
       "  </thead>\n",
       "  <tbody>\n",
       "    <tr>\n",
       "      <th>0</th>\n",
       "      <td>{'tag': 'timings', 'patterns': ['When is the c...</td>\n",
       "    </tr>\n",
       "    <tr>\n",
       "      <th>1</th>\n",
       "      <td>{'tag': 'ug timings', 'patterns': ['what are t...</td>\n",
       "    </tr>\n",
       "    <tr>\n",
       "      <th>2</th>\n",
       "      <td>{'tag': 'pg timings', 'patterns': ['what are t...</td>\n",
       "    </tr>\n",
       "    <tr>\n",
       "      <th>3</th>\n",
       "      <td>{'tag': 'placements', 'patterns': ['Are there ...</td>\n",
       "    </tr>\n",
       "    <tr>\n",
       "      <th>4</th>\n",
       "      <td>{'tag': 'placements-ug', 'patterns': ['Who are...</td>\n",
       "    </tr>\n",
       "  </tbody>\n",
       "</table>\n",
       "</div>"
      ],
      "text/plain": [
       "                                             intents\n",
       "0  {'tag': 'timings', 'patterns': ['When is the c...\n",
       "1  {'tag': 'ug timings', 'patterns': ['what are t...\n",
       "2  {'tag': 'pg timings', 'patterns': ['what are t...\n",
       "3  {'tag': 'placements', 'patterns': ['Are there ...\n",
       "4  {'tag': 'placements-ug', 'patterns': ['Who are..."
      ]
     },
     "execution_count": 18,
     "metadata": {},
     "output_type": "execute_result"
    }
   ],
   "source": [
    "df.head()"
   ]
  },
  {
   "cell_type": "code",
   "execution_count": 20,
   "id": "16afd0e0",
   "metadata": {},
   "outputs": [
    {
     "data": {
      "text/html": [
       "<div>\n",
       "<style scoped>\n",
       "    .dataframe tbody tr th:only-of-type {\n",
       "        vertical-align: middle;\n",
       "    }\n",
       "\n",
       "    .dataframe tbody tr th {\n",
       "        vertical-align: top;\n",
       "    }\n",
       "\n",
       "    .dataframe thead th {\n",
       "        text-align: right;\n",
       "    }\n",
       "</style>\n",
       "<table border=\"1\" class=\"dataframe\">\n",
       "  <thead>\n",
       "    <tr style=\"text-align: right;\">\n",
       "      <th></th>\n",
       "      <th>intents</th>\n",
       "    </tr>\n",
       "  </thead>\n",
       "  <tbody>\n",
       "    <tr>\n",
       "      <th>0</th>\n",
       "      <td>{'tag': 'timings', 'patterns': ['When is the c...</td>\n",
       "    </tr>\n",
       "    <tr>\n",
       "      <th>1</th>\n",
       "      <td>{'tag': 'ug timings', 'patterns': ['what are t...</td>\n",
       "    </tr>\n",
       "    <tr>\n",
       "      <th>2</th>\n",
       "      <td>{'tag': 'pg timings', 'patterns': ['what are t...</td>\n",
       "    </tr>\n",
       "    <tr>\n",
       "      <th>3</th>\n",
       "      <td>{'tag': 'placements', 'patterns': ['Are there ...</td>\n",
       "    </tr>\n",
       "    <tr>\n",
       "      <th>4</th>\n",
       "      <td>{'tag': 'placements-ug', 'patterns': ['Who are...</td>\n",
       "    </tr>\n",
       "  </tbody>\n",
       "</table>\n",
       "</div>"
      ],
      "text/plain": [
       "                                             intents\n",
       "0  {'tag': 'timings', 'patterns': ['When is the c...\n",
       "1  {'tag': 'ug timings', 'patterns': ['what are t...\n",
       "2  {'tag': 'pg timings', 'patterns': ['what are t...\n",
       "3  {'tag': 'placements', 'patterns': ['Are there ...\n",
       "4  {'tag': 'placements-ug', 'patterns': ['Who are..."
      ]
     },
     "execution_count": 20,
     "metadata": {},
     "output_type": "execute_result"
    }
   ],
   "source": [
    "df.head()"
   ]
  },
  {
   "cell_type": "code",
   "execution_count": null,
   "id": "c1253d09",
   "metadata": {},
   "outputs": [],
   "source": []
  },
  {
   "cell_type": "code",
   "execution_count": null,
   "id": "090e6524",
   "metadata": {},
   "outputs": [],
   "source": []
  }
 ],
 "metadata": {
  "kernelspec": {
   "display_name": "Python 3 (ipykernel)",
   "language": "python",
   "name": "python3"
  },
  "language_info": {
   "codemirror_mode": {
    "name": "ipython",
    "version": 3
   },
   "file_extension": ".py",
   "mimetype": "text/x-python",
   "name": "python",
   "nbconvert_exporter": "python",
   "pygments_lexer": "ipython3",
   "version": "3.9.13"
  }
 },
 "nbformat": 4,
 "nbformat_minor": 5
}
